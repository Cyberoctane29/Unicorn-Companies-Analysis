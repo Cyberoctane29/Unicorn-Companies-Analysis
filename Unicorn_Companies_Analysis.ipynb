{
 "cells": [
  {
   "cell_type": "markdown",
   "metadata": {},
   "source": [
    "# Unicorn Companies Analysis"
   ]
  },
  {
   "cell_type": "markdown",
   "metadata": {},
   "source": [
    "## Introduction\n",
    "\n",
    "In this notebook, I will analyze data on unicorn companies—private startups valued at over $1 billion—to uncover trends in industry growth, geographic distribution, and investment patterns. The dataset includes over 1,000 unicorn companies, detailing their industry, country, year founded, and major investors. My goal is to explore key characteristics of these companies and provide actionable insights.\n",
    "\n",
    "## Overview\n",
    "\n",
    "To achieve this, I will perform various analyses, including:\n",
    "\n",
    "- Cleaning and structuring the dataset, addressing missing values, and ensuring data integrity.  \n",
    "- Aggregating company valuations by country and industry to identify major investment hubs.  \n",
    "- Performing datetime transformations to analyze company growth over time.  \n",
    "- Visualizing trends in unicorn emergence by industry and geography using bar charts, heatmaps, and maps.  \n",
    "- Identifying the most common investors and their preferred industries.  \n",
    "- Creating global valuation maps, with a focus on companies that became unicorns after 2020.  \n",
    "- Filtering data to identify high-growth industries and key investment regions.  \n",
    "\n",
    "By conducting these analyses, I aim to provide a data-driven perspective on the unicorn ecosystem, helping investors and analysts make informed decisions about future opportunities.\n"
   ]
  },
  {
   "cell_type": "markdown",
   "metadata": {},
   "source": [
    "## Dataset Structure\n",
    "\n",
    "### Unicorn Companies Dataset  \n",
    "This dataset contains information about unicorn companies—privately held startups valued at over $1 billion. It includes key details about each company, such as its industry, geographic location, valuation, funding, and major investors. Below is a description of the key fields in this dataset:\n",
    "\n",
    "- **Company**: The name of the unicorn company.  \n",
    "- **Valuation**: The company's valuation in billions of dollars.  \n",
    "- **Date Joined**: The date the company reached unicorn status.  \n",
    "- **Industry**: The sector in which the company operates.  \n",
    "- **City**: The city where the company is headquartered.  \n",
    "- **Country/Region**: The country where the company is based.  \n",
    "- **Continent**: The continent where the company operates.  \n",
    "- **Year Founded**: The year the company was established.  \n",
    "- **Funding**: The total funding received by the company.  \n",
    "- **Select Investors**: The major investment firms backing the company.  \n",
    "\n",
    "This dataset provides insights into industry trends, geographic distribution, and investment patterns among unicorn companies worldwide.\n"
   ]
  },
  {
   "cell_type": "markdown",
   "metadata": {},
   "source": [
    "## Importing Required Libraries\n",
    "Before beginning the analysis, it is essential to import all necessary libraries. "
   ]
  },
  {
   "cell_type": "code",
   "execution_count": 13,
   "metadata": {},
   "outputs": [],
   "source": [
    "import numpy as np\n",
    "import pandas as pd\n",
    "import seaborn as sns\n",
    "import datetime as dt\n",
    "import matplotlib.pyplot as plt"
   ]
  }
 ],
 "metadata": {
  "kernelspec": {
   "display_name": ".venv",
   "language": "python",
   "name": "python3"
  },
  "language_info": {
   "codemirror_mode": {
    "name": "ipython",
    "version": 3
   },
   "file_extension": ".py",
   "mimetype": "text/x-python",
   "name": "python",
   "nbconvert_exporter": "python",
   "pygments_lexer": "ipython3",
   "version": "3.12.4"
  }
 },
 "nbformat": 4,
 "nbformat_minor": 2
}
